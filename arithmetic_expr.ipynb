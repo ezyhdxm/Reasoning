{
 "cells": [
  {
   "cell_type": "code",
   "execution_count": 1,
   "id": "d8b9db2f",
   "metadata": {},
   "outputs": [],
   "source": [
    "import numpy as np"
   ]
  },
  {
   "cell_type": "code",
   "execution_count": 64,
   "id": "91fa3a77",
   "metadata": {},
   "outputs": [],
   "source": [
    "def concat_popped_to_previous(A, B, C):\n",
    "    N, M = A.shape\n",
    "    A = A.astype(object)  # ensure string operations behave correctly\n",
    "\n",
    "    A_new = A.copy()\n",
    "\n",
    "    # Get the elements to be popped\n",
    "    popped = A[np.arange(N), B]\n",
    "\n",
    "    # Concatenate to the previous element in each row\n",
    "    A_new[np.arange(N), B - 1] = \"(\" + A_new[np.arange(N), B - 1] + C[np.arange(N)] + popped + \")\"\n",
    "\n",
    "    # Mask to remove B[i]-th column from each row\n",
    "    col_indices = np.arange(M)\n",
    "    mask = col_indices[None, :] != B[:, None]\n",
    "    result = A_new[mask].reshape(N, M - 1)\n",
    "\n",
    "    return result\n",
    "\n",
    "def one_step_reduction(A, B, C):\n",
    "    N, M = A.shape\n",
    "    A = A.astype(object)\n",
    "\n",
    "    A_new = A.copy()\n",
    "\n",
    "    # Indexing\n",
    "    idx = np.arange(N)\n",
    "\n",
    "    # Get elements to combine\n",
    "    popped = A[idx, B]\n",
    "    prev = A[idx, B - 1]\n",
    "    ops = C[idx]\n",
    "\n",
    "    # Convert to integers\n",
    "    x = prev.astype(int)\n",
    "    y = popped.astype(int)\n",
    "\n",
    "    # Compute result vectorized using np.where\n",
    "    reduced = np.where(ops == \"+\", (x + y) % 10, (x - y) % 10).astype(str)\n",
    "\n",
    "    # Write back to A_new\n",
    "    A_new[idx, B - 1] = reduced\n",
    "\n",
    "    # Remove the popped column\n",
    "    col_indices = np.arange(M)\n",
    "    mask = col_indices[None, :] != B[:, None]\n",
    "    result = A_new[mask].reshape(N, M - 1)\n",
    "\n",
    "    return result\n",
    "\n",
    "def concat_op_var(A,C):\n",
    "    N = A.shape[0]\n",
    "    A = A.astype(object)  # ensure string operations behave correctly\n",
    "    A_new = A.copy()\n",
    "    A_new[np.arange(N), 0] = A_new[np.arange(N), 0] + C[np.arange(N)] + A_new[np.arange(N), 1]\n",
    "    return A_new[:, :1]\n",
    "\n",
    "def generate_constrained_sequences(batch_size, T, high=None):\n",
    "    if high is None:\n",
    "        high = T\n",
    "    elif T > high:\n",
    "        raise ValueError(\"T cannot be greater than high\")\n",
    "\n",
    "    # Shape: (1, T) → [[high, high-1, ..., high-T+1]]\n",
    "    upper_bounds = high - np.arange(T)\n",
    "\n",
    "    # Uniform samples in [0, 1), shape: (batch_size, T)\n",
    "    random_floats = np.random.rand(batch_size, T)\n",
    "\n",
    "    # Scale to [1, upper_bound] per timestep\n",
    "    # floor(random * bound) ∈ [0, bound-1], then +1 ∈ [1, bound]\n",
    "    samples = np.floor(random_floats * upper_bounds).astype(int) + 1\n",
    "\n",
    "    return samples\n",
    "\n",
    "def sample_arith_exp(num_samples, num_variables):\n",
    "    variables = np.random.randint(low=0, high=9, size=(num_samples, num_variables)).astype(str)\n",
    "    ops = np.random.choice([\"+\", \"-\"], size=(num_samples, num_variables-1))\n",
    "    orders = generate_constrained_sequences(num_samples, num_variables-1)\n",
    "    one_step_result = one_step_reduction(variables, orders[:, 0], ops[:, 0])\n",
    "    variables = concat_popped_to_previous(variables, orders[:, 0], ops[:, 0])\n",
    "    for t in range(1,num_variables-2):\n",
    "        one_step_result = concat_popped_to_previous(one_step_result, orders[:, t], ops[:, t])\n",
    "        variables = concat_popped_to_previous(variables, orders[:, t], ops[:, t])\n",
    "    variables = concat_op_var(variables, ops[:,num_variables-2])\n",
    "    one_step_result = concat_op_var(one_step_result, ops[:,num_variables-2])\n",
    "    return variables, one_step_result"
   ]
  },
  {
   "cell_type": "code",
   "execution_count": 65,
   "id": "5b1965a5",
   "metadata": {},
   "outputs": [
    {
     "data": {
      "text/plain": [
       "(array([['7-((7+1)-0)'],\n",
       "        ['(1+(5-5))+3'],\n",
       "        ['((6+2)+0)+5'],\n",
       "        ['(4+3)+(7+0)'],\n",
       "        ['(8-0)+(7-0)']], dtype=object),\n",
       " array([['7-(8-0)'],\n",
       "        ['(1+0)+3'],\n",
       "        ['(8+0)+5'],\n",
       "        ['7+(7+0)'],\n",
       "        ['8+(7-0)']], dtype=object))"
      ]
     },
     "execution_count": 65,
     "metadata": {},
     "output_type": "execute_result"
    }
   ],
   "source": [
    "sample_arith_exp(5, 4)"
   ]
  },
  {
   "cell_type": "code",
   "execution_count": null,
   "id": "8993785f",
   "metadata": {},
   "outputs": [],
   "source": []
  }
 ],
 "metadata": {
  "kernelspec": {
   "display_name": "Python 3 (ipykernel)",
   "language": "python",
   "name": "python3"
  },
  "language_info": {
   "codemirror_mode": {
    "name": "ipython",
    "version": 3
   },
   "file_extension": ".py",
   "mimetype": "text/x-python",
   "name": "python",
   "nbconvert_exporter": "python",
   "pygments_lexer": "ipython3",
   "version": "3.11.11"
  }
 },
 "nbformat": 4,
 "nbformat_minor": 5
}
