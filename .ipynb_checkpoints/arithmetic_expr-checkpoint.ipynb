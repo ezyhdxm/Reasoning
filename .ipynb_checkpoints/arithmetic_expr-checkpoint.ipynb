{
 "cells": [
  {
   "cell_type": "code",
   "execution_count": 1,
   "id": "d8b9db2f",
   "metadata": {},
   "outputs": [],
   "source": [
    "import numpy as np\n",
    "from models.base_models import Transformer\n",
    "from arithmetic_sampler import ArithmeticSampler\n",
    "from config import get_config\n",
    "from train import train\n",
    "import torch\n",
    "import torch.nn as nn\n",
    "import torch.nn.functional as F\n",
    "import utils as u\n",
    "\n",
    "%load_ext autoreload\n",
    "%autoreload 2"
   ]
  },
  {
   "cell_type": "code",
   "execution_count": 34,
   "id": "47efc325-50c0-4170-99db-c0a4fad81be6",
   "metadata": {},
   "outputs": [],
   "source": [
    "config = get_config()\n",
    "sampler = ArithmeticSampler(config.task.max_variables, config.task.max_seq_len)\n",
    "torch.cuda.empty_cache()"
   ]
  },
  {
   "cell_type": "code",
   "execution_count": 16,
   "id": "fcdb0c7a-9c97-4a16-947c-6f27489b8f44",
   "metadata": {},
   "outputs": [
    {
     "name": "stdout",
     "output_type": "stream",
     "text": [
      "2.39 s ± 49.8 ms per loop (mean ± std. dev. of 7 runs, 1 loop each)\n"
     ]
    }
   ],
   "source": [
    "%%timeit\n",
    "sampler.generate(2**17)"
   ]
  },
  {
   "cell_type": "code",
   "execution_count": 13,
   "id": "d2a38e49",
   "metadata": {},
   "outputs": [
    {
     "name": "stdout",
     "output_type": "stream",
     "text": [
      "Results are saved in:  results\\train_bbfad07a08bd3de0de55daf02c6bd160\n"
     ]
    },
    {
     "data": {
      "application/vnd.jupyter.widget-view+json": {
       "model_id": "056a634a5b714d0ca0426b418dcaaccf",
       "version_major": 2,
       "version_minor": 0
      },
      "text/plain": [
       "Button(description='Stop Training', style=ButtonStyle())"
      ]
     },
     "metadata": {},
     "output_type": "display_data"
    },
    {
     "name": "stdout",
     "output_type": "stream",
     "text": [
      "===================================================================================================================\n",
      "Layer (type:depth-idx)                   Input Shape               Output Shape              Param #\n",
      "===================================================================================================================\n",
      "Transformer                              [128, 82]                 [128, 82, 16]             --\n",
      "├─Embedding: 1-1                         [128, 82]                 [128, 82, 64]             1,024\n",
      "├─ModuleList: 1-2                        --                        --                        --\n",
      "│    └─TFBlock: 2-1                      [128, 82, 64]             [128, 82, 64]             --\n",
      "│    │    └─LayerNorm: 3-1               [128, 82, 64]             [128, 82, 64]             128\n",
      "│    │    └─MultiHeadAttention: 3-2      [128, 82, 64]             [128, 82, 64]             16,384\n",
      "│    │    └─Dropout: 3-3                 [128, 82, 64]             [128, 82, 64]             --\n",
      "│    │    └─LayerNorm: 3-4               [128, 82, 64]             [128, 82, 64]             128\n",
      "│    │    └─Sequential: 3-5              [128, 82, 64]             [128, 82, 64]             33,088\n",
      "│    │    └─Dropout: 3-6                 [128, 82, 64]             [128, 82, 64]             --\n",
      "│    └─TFBlock: 2-2                      [128, 82, 64]             [128, 82, 64]             --\n",
      "│    │    └─LayerNorm: 3-7               [128, 82, 64]             [128, 82, 64]             128\n",
      "│    │    └─MultiHeadAttention: 3-8      [128, 82, 64]             [128, 82, 64]             16,384\n",
      "│    │    └─Dropout: 3-9                 [128, 82, 64]             [128, 82, 64]             --\n",
      "│    │    └─LayerNorm: 3-10              [128, 82, 64]             [128, 82, 64]             128\n",
      "│    │    └─Sequential: 3-11             [128, 82, 64]             [128, 82, 64]             33,088\n",
      "│    │    └─Dropout: 3-12                [128, 82, 64]             [128, 82, 64]             --\n",
      "├─Linear: 1-3                            [128, 82, 64]             [128, 82, 16]             1,040\n",
      "===================================================================================================================\n",
      "Total params: 101,520\n",
      "Trainable params: 101,520\n",
      "Non-trainable params: 0\n",
      "Total mult-adds (Units.MEGABYTES): 12.99\n",
      "===================================================================================================================\n",
      "Input size (MB): 0.08\n",
      "Forward/backward pass size (MB): 124.94\n",
      "Params size (MB): 0.41\n",
      "Estimated Total Size (MB): 125.43\n",
      "===================================================================================================================\n",
      "Initialized model, optimizer, and train state\n",
      "Initialized data samplers\n"
     ]
    },
    {
     "data": {
      "text/html": [
       "Finishing last run (ID:36b361hs) before initializing another..."
      ],
      "text/plain": [
       "<IPython.core.display.HTML object>"
      ]
     },
     "metadata": {},
     "output_type": "display_data"
    },
    {
     "data": {
      "text/html": [
       "\n",
       "    <style>\n",
       "        .wandb-row {\n",
       "            display: flex;\n",
       "            flex-direction: row;\n",
       "            flex-wrap: wrap;\n",
       "            justify-content: flex-start;\n",
       "            width: 100%;\n",
       "        }\n",
       "        .wandb-col {\n",
       "            display: flex;\n",
       "            flex-direction: column;\n",
       "            flex-basis: 100%;\n",
       "            flex: 1;\n",
       "            padding: 10px;\n",
       "        }\n",
       "    </style>\n",
       "<div class=\"wandb-row\"><div class=\"wandb-col\"><h3>Run history:</h3><br/><table class=\"wandb\"><tr><td>eval/accuracy</td><td>▁▁▅▆▇▇▇▇▇▇▇▇████████████████████████████</td></tr><tr><td>eval/loss</td><td>█▆▅▅▅▃▃▂▂▂▁▁▁▁▁▁▁▁▁▁▁▁▁▁▁▁▁▁▁▁▁▁▁▁▁▁▁▁▁▁</td></tr><tr><td>eval/op-accuracy</td><td>▂▁▂▂▄▅▅▇▇▇▇▆▇▇▇▇▇█▇▆▇▇███▇▇▇█▇▇▇▇▇▇███▇█</td></tr><tr><td>train/accuracy</td><td>▁▁▁▁▂▃▄▄▄▅▇▇▇▇▇█████████████████████████</td></tr><tr><td>train/loss</td><td>█▅▅▃▃▃▃▃▃▂▂▁▁▁▁▁▁▁▁▁▁▁▁▁▁▁▁▁▁▁▁▁▁▁▁▁▁▁▁▁</td></tr><tr><td>train/lr</td><td>▁▁▂▂▃▄▄▄▅▅▆▆▇▇▇█████▇▇▇▆▆▆▅▅▅▅▄▄▃▃▃▃▂▂▁▁</td></tr><tr><td>train/op-accuracy</td><td>▄▃▂▃▁▂▂▄▂▅▄▃▃▅▄▃▃▇▃▇█▃▄▄▃▅▄▄▄▅▆▄▃▆▆▄▅▄▂▅</td></tr></table><br/></div><div class=\"wandb-col\"><h3>Run summary:</h3><br/><table class=\"wandb\"><tr><td>eval/accuracy</td><td>0.93837</td></tr><tr><td>eval/loss</td><td>0.1641</td></tr><tr><td>eval/op-accuracy</td><td>0.11938</td></tr><tr><td>train/accuracy</td><td>0.93085</td></tr><tr><td>train/loss</td><td>0.1891</td></tr><tr><td>train/lr</td><td>0</td></tr><tr><td>train/op-accuracy</td><td>0.10938</td></tr></table><br/></div></div>"
      ],
      "text/plain": [
       "<IPython.core.display.HTML object>"
      ]
     },
     "metadata": {},
     "output_type": "display_data"
    },
    {
     "data": {
      "text/html": [
       " View run <strong style=\"color:#cdcd00\">train_ce061a48f6fd9effcce2938ba56310f2</strong> at: <a href='https://wandb.ai/hyan84-university-of-wisconsin-madison/Reasoning/runs/36b361hs' target=\"_blank\">https://wandb.ai/hyan84-university-of-wisconsin-madison/Reasoning/runs/36b361hs</a><br/> View project at: <a href='https://wandb.ai/hyan84-university-of-wisconsin-madison/Reasoning' target=\"_blank\">https://wandb.ai/hyan84-university-of-wisconsin-madison/Reasoning</a><br/>Synced 5 W&B file(s), 0 media file(s), 0 artifact file(s) and 0 other file(s)"
      ],
      "text/plain": [
       "<IPython.core.display.HTML object>"
      ]
     },
     "metadata": {},
     "output_type": "display_data"
    },
    {
     "data": {
      "text/html": [
       "Find logs at: <code>.\\wandb\\run-20250408_221558-36b361hs\\logs</code>"
      ],
      "text/plain": [
       "<IPython.core.display.HTML object>"
      ]
     },
     "metadata": {},
     "output_type": "display_data"
    },
    {
     "data": {
      "text/html": [
       "Successfully finished last run (ID:36b361hs). Initializing new run:<br/>"
      ],
      "text/plain": [
       "<IPython.core.display.HTML object>"
      ]
     },
     "metadata": {},
     "output_type": "display_data"
    },
    {
     "data": {
      "text/html": [
       "Tracking run with wandb version 0.18.7"
      ],
      "text/plain": [
       "<IPython.core.display.HTML object>"
      ]
     },
     "metadata": {},
     "output_type": "display_data"
    },
    {
     "data": {
      "text/html": [
       "Run data is saved locally in <code>C:\\Users\\Hao\\Downloads\\LLM\\Reasoning\\wandb\\run-20250408_230235-y828pwkq</code>"
      ],
      "text/plain": [
       "<IPython.core.display.HTML object>"
      ]
     },
     "metadata": {},
     "output_type": "display_data"
    },
    {
     "data": {
      "text/html": [
       "Syncing run <strong><a href='https://wandb.ai/hyan84-university-of-wisconsin-madison/Reasoning/runs/y828pwkq' target=\"_blank\">train_bbfad07a08bd3de0de55daf02c6bd160</a></strong> to <a href='https://wandb.ai/hyan84-university-of-wisconsin-madison/Reasoning' target=\"_blank\">Weights & Biases</a> (<a href='https://wandb.me/developer-guide' target=\"_blank\">docs</a>)<br/>"
      ],
      "text/plain": [
       "<IPython.core.display.HTML object>"
      ]
     },
     "metadata": {},
     "output_type": "display_data"
    },
    {
     "data": {
      "text/html": [
       " View project at <a href='https://wandb.ai/hyan84-university-of-wisconsin-madison/Reasoning' target=\"_blank\">https://wandb.ai/hyan84-university-of-wisconsin-madison/Reasoning</a>"
      ],
      "text/plain": [
       "<IPython.core.display.HTML object>"
      ]
     },
     "metadata": {},
     "output_type": "display_data"
    },
    {
     "data": {
      "text/html": [
       " View run at <a href='https://wandb.ai/hyan84-university-of-wisconsin-madison/Reasoning/runs/y828pwkq' target=\"_blank\">https://wandb.ai/hyan84-university-of-wisconsin-madison/Reasoning/runs/y828pwkq</a>"
      ],
      "text/plain": [
       "<IPython.core.display.HTML object>"
      ]
     },
     "metadata": {},
     "output_type": "display_data"
    },
    {
     "name": "stdout",
     "output_type": "stream",
     "text": [
      "Start training...\n"
     ]
    },
    {
     "data": {
      "application/vnd.jupyter.widget-view+json": {
       "model_id": "55136b2b9bfd46419b2d13aaf20428da",
       "version_major": 2,
       "version_minor": 0
      },
      "text/plain": [
       "  0%|          | 0/10 [00:00<?, ?it/s]"
      ]
     },
     "metadata": {},
     "output_type": "display_data"
    },
    {
     "data": {
      "application/vnd.jupyter.widget-view+json": {
       "model_id": "",
       "version_major": 2,
       "version_minor": 0
      },
      "text/plain": [
       "  0%|          | 0/6000 [00:00<?, ?it/s]"
      ]
     },
     "metadata": {},
     "output_type": "display_data"
    },
    {
     "data": {
      "application/vnd.jupyter.widget-view+json": {
       "model_id": "",
       "version_major": 2,
       "version_minor": 0
      },
      "text/plain": [
       "  0%|          | 0/6000 [00:00<?, ?it/s]"
      ]
     },
     "metadata": {},
     "output_type": "display_data"
    },
    {
     "data": {
      "application/vnd.jupyter.widget-view+json": {
       "model_id": "",
       "version_major": 2,
       "version_minor": 0
      },
      "text/plain": [
       "  0%|          | 0/6000 [00:00<?, ?it/s]"
      ]
     },
     "metadata": {},
     "output_type": "display_data"
    },
    {
     "data": {
      "application/vnd.jupyter.widget-view+json": {
       "model_id": "",
       "version_major": 2,
       "version_minor": 0
      },
      "text/plain": [
       "  0%|          | 0/6000 [00:00<?, ?it/s]"
      ]
     },
     "metadata": {},
     "output_type": "display_data"
    },
    {
     "data": {
      "application/vnd.jupyter.widget-view+json": {
       "model_id": "",
       "version_major": 2,
       "version_minor": 0
      },
      "text/plain": [
       "  0%|          | 0/6000 [00:00<?, ?it/s]"
      ]
     },
     "metadata": {},
     "output_type": "display_data"
    },
    {
     "data": {
      "application/vnd.jupyter.widget-view+json": {
       "model_id": "",
       "version_major": 2,
       "version_minor": 0
      },
      "text/plain": [
       "  0%|          | 0/6000 [00:00<?, ?it/s]"
      ]
     },
     "metadata": {},
     "output_type": "display_data"
    },
    {
     "data": {
      "application/vnd.jupyter.widget-view+json": {
       "model_id": "",
       "version_major": 2,
       "version_minor": 0
      },
      "text/plain": [
       "  0%|          | 0/6000 [00:00<?, ?it/s]"
      ]
     },
     "metadata": {},
     "output_type": "display_data"
    },
    {
     "data": {
      "application/vnd.jupyter.widget-view+json": {
       "model_id": "",
       "version_major": 2,
       "version_minor": 0
      },
      "text/plain": [
       "  0%|          | 0/6000 [00:00<?, ?it/s]"
      ]
     },
     "metadata": {},
     "output_type": "display_data"
    },
    {
     "data": {
      "application/vnd.jupyter.widget-view+json": {
       "model_id": "",
       "version_major": 2,
       "version_minor": 0
      },
      "text/plain": [
       "  0%|          | 0/6000 [00:00<?, ?it/s]"
      ]
     },
     "metadata": {},
     "output_type": "display_data"
    },
    {
     "data": {
      "application/vnd.jupyter.widget-view+json": {
       "model_id": "",
       "version_major": 2,
       "version_minor": 0
      },
      "text/plain": [
       "  0%|          | 0/6000 [00:00<?, ?it/s]"
      ]
     },
     "metadata": {},
     "output_type": "display_data"
    },
    {
     "name": "stdout",
     "output_type": "stream",
     "text": [
      "Training complete.\n"
     ]
    }
   ],
   "source": [
    "model = Transformer(config)\n",
    "\n",
    "train(model, sampler, config, verbose=False)"
   ]
  },
  {
   "cell_type": "code",
   "execution_count": 35,
   "id": "dcfa841d",
   "metadata": {},
   "outputs": [],
   "source": [
    "batch, mask = sampler.generate(1)\n",
    "input_batch = sampler.decode(batch)"
   ]
  },
  {
   "cell_type": "code",
   "execution_count": 55,
   "id": "8dd3c704-3f54-4192-bd16-bfbcc74aa164",
   "metadata": {},
   "outputs": [],
   "source": [
    "input_batch = [\"1+2+3+4=3+3+4\"]\n",
    "batch, mask = sampler.encode(input_batch)"
   ]
  },
  {
   "cell_type": "code",
   "execution_count": 56,
   "id": "3ee0492c-2e6f-4114-831c-9056964efcb9",
   "metadata": {},
   "outputs": [
    {
     "data": {
      "text/plain": [
       "torch.Size([1, 83])"
      ]
     },
     "execution_count": 56,
     "metadata": {},
     "output_type": "execute_result"
    }
   ],
   "source": [
    "mask.shape"
   ]
  },
  {
   "cell_type": "code",
   "execution_count": 57,
   "id": "efdec591",
   "metadata": {},
   "outputs": [
    {
     "data": {
      "text/plain": [
       "tensor([ 0,  0, -2,  1,  3], device='cuda:0')"
      ]
     },
     "execution_count": 57,
     "metadata": {},
     "output_type": "execute_result"
    }
   ],
   "source": [
    "batch = batch.to(config.device)\n",
    "logits, _ = model(batch)\n",
    "(logits[:, :-1].argmax(dim=-1) - batch[:, 1:])[mask[:,1:]>0]"
   ]
  },
  {
   "cell_type": "code",
   "execution_count": 58,
   "id": "5faa0ce1-2ad5-45fb-b431-8e31ed601631",
   "metadata": {},
   "outputs": [
    {
     "data": {
      "text/plain": [
       "['3+1-7']"
      ]
     },
     "execution_count": 58,
     "metadata": {},
     "output_type": "execute_result"
    }
   ],
   "source": [
    "sampler.decode(logits[:, :-1].cpu().argmax(dim=-1)[mask[:,1:]>0])"
   ]
  },
  {
   "cell_type": "code",
   "execution_count": null,
   "id": "280b1f95-a1b8-4a9c-8486-fbdd3cbf9f05",
   "metadata": {},
   "outputs": [],
   "source": []
  }
 ],
 "metadata": {
  "kernelspec": {
   "display_name": "Python 3 (ipykernel)",
   "language": "python",
   "name": "python3"
  },
  "language_info": {
   "codemirror_mode": {
    "name": "ipython",
    "version": 3
   },
   "file_extension": ".py",
   "mimetype": "text/x-python",
   "name": "python",
   "nbconvert_exporter": "python",
   "pygments_lexer": "ipython3",
   "version": "3.12.3"
  }
 },
 "nbformat": 4,
 "nbformat_minor": 5
}
