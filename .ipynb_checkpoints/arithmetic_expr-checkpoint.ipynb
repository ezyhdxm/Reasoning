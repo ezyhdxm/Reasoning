{
 "cells": [
  {
   "cell_type": "code",
   "execution_count": 117,
   "id": "d8b9db2f",
   "metadata": {},
   "outputs": [
    {
     "name": "stdout",
     "output_type": "stream",
     "text": [
      "The autoreload extension is already loaded. To reload it, use:\n",
      "  %reload_ext autoreload\n"
     ]
    }
   ],
   "source": [
    "import numpy as np\n",
    "from models.base_models import Transformer\n",
    "from arithmetic_sampler import ArithmeticSampler\n",
    "from config import get_config\n",
    "from train import train\n",
    "import torch\n",
    "import torch.nn as nn\n",
    "import torch.nn.functional as F\n",
    "import utils as u\n",
    "\n",
    "%load_ext autoreload\n",
    "%autoreload 2"
   ]
  },
  {
   "cell_type": "code",
   "execution_count": 88,
   "id": "fcdb0c7a-9c97-4a16-947c-6f27489b8f44",
   "metadata": {},
   "outputs": [
    {
     "name": "stdout",
     "output_type": "stream",
     "text": [
      "1.17 s ± 12 ms per loop (mean ± std. dev. of 7 runs, 1 loop each)\n"
     ]
    }
   ],
   "source": [
    "%%timeit\n",
    "sampler.generate(2**16)"
   ]
  },
  {
   "cell_type": "code",
   "execution_count": 168,
   "id": "47efc325-50c0-4170-99db-c0a4fad81be6",
   "metadata": {},
   "outputs": [],
   "source": [
    "config = get_config()\n",
    "sampler = ArithmeticSampler(config.task.max_variables)"
   ]
  },
  {
   "cell_type": "code",
   "execution_count": 169,
   "id": "d2a38e49",
   "metadata": {},
   "outputs": [
    {
     "name": "stdout",
     "output_type": "stream",
     "text": [
      "Results are saved in:  results\\train_530aa16d998938de9243667df37bede9\n",
      "===================================================================================================================\n",
      "Layer (type:depth-idx)                   Input Shape               Output Shape              Param #\n",
      "===================================================================================================================\n",
      "Transformer                              [256, 82]                 [256, 82, 16]             --\n",
      "├─Embedding: 1-1                         [256, 82]                 [256, 82, 64]             1,024\n",
      "├─ModuleList: 1-2                        --                        --                        --\n",
      "│    └─TFBlock: 2-1                      [256, 82, 64]             [256, 82, 64]             --\n",
      "│    │    └─LayerNorm: 3-1               [256, 82, 64]             [256, 82, 64]             128\n",
      "│    │    └─MultiHeadAttention: 3-2      [256, 82, 64]             [256, 82, 64]             16,384\n",
      "│    │    └─Dropout: 3-3                 [256, 82, 64]             [256, 82, 64]             --\n",
      "│    │    └─LayerNorm: 3-4               [256, 82, 64]             [256, 82, 64]             128\n",
      "│    │    └─Sequential: 3-5              [256, 82, 64]             [256, 82, 64]             16,576\n",
      "│    │    └─Dropout: 3-6                 [256, 82, 64]             [256, 82, 64]             --\n",
      "│    └─TFBlock: 2-2                      [256, 82, 64]             [256, 82, 64]             --\n",
      "│    │    └─LayerNorm: 3-7               [256, 82, 64]             [256, 82, 64]             128\n",
      "│    │    └─MultiHeadAttention: 3-8      [256, 82, 64]             [256, 82, 64]             16,384\n",
      "│    │    └─Dropout: 3-9                 [256, 82, 64]             [256, 82, 64]             --\n",
      "│    │    └─LayerNorm: 3-10              [256, 82, 64]             [256, 82, 64]             128\n",
      "│    │    └─Sequential: 3-11             [256, 82, 64]             [256, 82, 64]             16,576\n",
      "│    │    └─Dropout: 3-12                [256, 82, 64]             [256, 82, 64]             --\n",
      "│    └─TFBlock: 2-3                      [256, 82, 64]             [256, 82, 64]             --\n",
      "│    │    └─LayerNorm: 3-13              [256, 82, 64]             [256, 82, 64]             128\n",
      "│    │    └─MultiHeadAttention: 3-14     [256, 82, 64]             [256, 82, 64]             16,384\n",
      "│    │    └─Dropout: 3-15                [256, 82, 64]             [256, 82, 64]             --\n",
      "│    │    └─LayerNorm: 3-16              [256, 82, 64]             [256, 82, 64]             128\n",
      "│    │    └─Sequential: 3-17             [256, 82, 64]             [256, 82, 64]             16,576\n",
      "│    │    └─Dropout: 3-18                [256, 82, 64]             [256, 82, 64]             --\n",
      "├─Linear: 1-3                            [256, 82, 64]             [256, 82, 16]             1,040\n",
      "===================================================================================================================\n",
      "Total params: 101,712\n",
      "Trainable params: 101,712\n",
      "Non-trainable params: 0\n",
      "Total mult-adds (Units.MEGABYTES): 26.04\n",
      "===================================================================================================================\n",
      "Input size (MB): 0.17\n",
      "Forward/backward pass size (MB): 303.63\n",
      "Params size (MB): 0.41\n",
      "Estimated Total Size (MB): 304.20\n",
      "===================================================================================================================\n",
      "Initialized model, optimizer, and train state\n",
      "Initialized data samplers\n"
     ]
    },
    {
     "data": {
      "text/html": [
       "Finishing last run (ID:bybd472o) before initializing another..."
      ],
      "text/plain": [
       "<IPython.core.display.HTML object>"
      ]
     },
     "metadata": {},
     "output_type": "display_data"
    },
    {
     "data": {
      "text/html": [
       "\n",
       "    <style>\n",
       "        .wandb-row {\n",
       "            display: flex;\n",
       "            flex-direction: row;\n",
       "            flex-wrap: wrap;\n",
       "            justify-content: flex-start;\n",
       "            width: 100%;\n",
       "        }\n",
       "        .wandb-col {\n",
       "            display: flex;\n",
       "            flex-direction: column;\n",
       "            flex-basis: 100%;\n",
       "            flex: 1;\n",
       "            padding: 10px;\n",
       "        }\n",
       "    </style>\n",
       "<div class=\"wandb-row\"><div class=\"wandb-col\"><h3>Run history:</h3><br/><table class=\"wandb\"><tr><td>eval/accuracy</td><td>▁▂▃▄▄▆▆▆▇▇▇▇▇▇▇█████████████████████████</td></tr><tr><td>eval/loss</td><td>█▅▄▄▄▂▂▂▂▂▂▁▁▁▁▁▁▁▁▁▁▁▁▁▁▁▁▁▁▁▁▁▁▁▁▁▁▁▁▁</td></tr><tr><td>train/loss</td><td>██▇▅▅▄▄▃▂▂▂▂▂▂▂▁▁▁▁▁▁▁▁▁▁▁▁▁▁▁▁▁▁▁▁▁▁▁▁▁</td></tr><tr><td>train/lr</td><td>▁▂▂▃▃▄▄▄▅▅▅▆▆▇▇▇████▇▇▇▆▆▅▅▄▄▄▄▃▃▃▃▂▂▂▁▁</td></tr></table><br/></div><div class=\"wandb-col\"><h3>Run summary:</h3><br/><table class=\"wandb\"><tr><td>eval/accuracy</td><td>0.93138</td></tr><tr><td>eval/loss</td><td>0.7169</td></tr><tr><td>train/loss</td><td>0.75416</td></tr><tr><td>train/lr</td><td>0</td></tr></table><br/></div></div>"
      ],
      "text/plain": [
       "<IPython.core.display.HTML object>"
      ]
     },
     "metadata": {},
     "output_type": "display_data"
    },
    {
     "data": {
      "text/html": [
       " View run <strong style=\"color:#cdcd00\">train_8fadbacbf65a99f50e3e6d1d8a93637c</strong> at: <a href='https://wandb.ai/hyan84-university-of-wisconsin-madison/Reasoning/runs/bybd472o' target=\"_blank\">https://wandb.ai/hyan84-university-of-wisconsin-madison/Reasoning/runs/bybd472o</a><br/> View project at: <a href='https://wandb.ai/hyan84-university-of-wisconsin-madison/Reasoning' target=\"_blank\">https://wandb.ai/hyan84-university-of-wisconsin-madison/Reasoning</a><br/>Synced 5 W&B file(s), 0 media file(s), 0 artifact file(s) and 0 other file(s)"
      ],
      "text/plain": [
       "<IPython.core.display.HTML object>"
      ]
     },
     "metadata": {},
     "output_type": "display_data"
    },
    {
     "data": {
      "text/html": [
       "Find logs at: <code>.\\wandb\\run-20250408_012607-bybd472o\\logs</code>"
      ],
      "text/plain": [
       "<IPython.core.display.HTML object>"
      ]
     },
     "metadata": {},
     "output_type": "display_data"
    },
    {
     "data": {
      "text/html": [
       "Successfully finished last run (ID:bybd472o). Initializing new run:<br/>"
      ],
      "text/plain": [
       "<IPython.core.display.HTML object>"
      ]
     },
     "metadata": {},
     "output_type": "display_data"
    },
    {
     "data": {
      "text/html": [
       "Tracking run with wandb version 0.18.7"
      ],
      "text/plain": [
       "<IPython.core.display.HTML object>"
      ]
     },
     "metadata": {},
     "output_type": "display_data"
    },
    {
     "data": {
      "text/html": [
       "Run data is saved locally in <code>C:\\Users\\Hao\\Downloads\\LLM\\Reasoning\\wandb\\run-20250408_013210-ki0xnj41</code>"
      ],
      "text/plain": [
       "<IPython.core.display.HTML object>"
      ]
     },
     "metadata": {},
     "output_type": "display_data"
    },
    {
     "data": {
      "text/html": [
       "Syncing run <strong><a href='https://wandb.ai/hyan84-university-of-wisconsin-madison/Reasoning/runs/ki0xnj41' target=\"_blank\">train_530aa16d998938de9243667df37bede9</a></strong> to <a href='https://wandb.ai/hyan84-university-of-wisconsin-madison/Reasoning' target=\"_blank\">Weights & Biases</a> (<a href='https://wandb.me/developer-guide' target=\"_blank\">docs</a>)<br/>"
      ],
      "text/plain": [
       "<IPython.core.display.HTML object>"
      ]
     },
     "metadata": {},
     "output_type": "display_data"
    },
    {
     "data": {
      "text/html": [
       " View project at <a href='https://wandb.ai/hyan84-university-of-wisconsin-madison/Reasoning' target=\"_blank\">https://wandb.ai/hyan84-university-of-wisconsin-madison/Reasoning</a>"
      ],
      "text/plain": [
       "<IPython.core.display.HTML object>"
      ]
     },
     "metadata": {},
     "output_type": "display_data"
    },
    {
     "data": {
      "text/html": [
       " View run at <a href='https://wandb.ai/hyan84-university-of-wisconsin-madison/Reasoning/runs/ki0xnj41' target=\"_blank\">https://wandb.ai/hyan84-university-of-wisconsin-madison/Reasoning/runs/ki0xnj41</a>"
      ],
      "text/plain": [
       "<IPython.core.display.HTML object>"
      ]
     },
     "metadata": {},
     "output_type": "display_data"
    },
    {
     "name": "stdout",
     "output_type": "stream",
     "text": [
      "Start training...\n"
     ]
    },
    {
     "data": {
      "application/vnd.jupyter.widget-view+json": {
       "model_id": "1a58eeb43df842508319005498af831e",
       "version_major": 2,
       "version_minor": 0
      },
      "text/plain": [
       "  0%|          | 0/8 [00:00<?, ?it/s]"
      ]
     },
     "metadata": {},
     "output_type": "display_data"
    },
    {
     "data": {
      "application/vnd.jupyter.widget-view+json": {
       "model_id": "",
       "version_major": 2,
       "version_minor": 0
      },
      "text/plain": [
       "  0%|          | 0/2500 [00:00<?, ?it/s]"
      ]
     },
     "metadata": {},
     "output_type": "display_data"
    },
    {
     "data": {
      "application/vnd.jupyter.widget-view+json": {
       "model_id": "",
       "version_major": 2,
       "version_minor": 0
      },
      "text/plain": [
       "  0%|          | 0/2500 [00:00<?, ?it/s]"
      ]
     },
     "metadata": {},
     "output_type": "display_data"
    },
    {
     "data": {
      "application/vnd.jupyter.widget-view+json": {
       "model_id": "",
       "version_major": 2,
       "version_minor": 0
      },
      "text/plain": [
       "  0%|          | 0/2500 [00:00<?, ?it/s]"
      ]
     },
     "metadata": {},
     "output_type": "display_data"
    },
    {
     "data": {
      "application/vnd.jupyter.widget-view+json": {
       "model_id": "",
       "version_major": 2,
       "version_minor": 0
      },
      "text/plain": [
       "  0%|          | 0/2500 [00:00<?, ?it/s]"
      ]
     },
     "metadata": {},
     "output_type": "display_data"
    },
    {
     "data": {
      "application/vnd.jupyter.widget-view+json": {
       "model_id": "",
       "version_major": 2,
       "version_minor": 0
      },
      "text/plain": [
       "  0%|          | 0/2500 [00:00<?, ?it/s]"
      ]
     },
     "metadata": {},
     "output_type": "display_data"
    },
    {
     "data": {
      "application/vnd.jupyter.widget-view+json": {
       "model_id": "",
       "version_major": 2,
       "version_minor": 0
      },
      "text/plain": [
       "  0%|          | 0/2500 [00:00<?, ?it/s]"
      ]
     },
     "metadata": {},
     "output_type": "display_data"
    },
    {
     "data": {
      "application/vnd.jupyter.widget-view+json": {
       "model_id": "",
       "version_major": 2,
       "version_minor": 0
      },
      "text/plain": [
       "  0%|          | 0/2500 [00:00<?, ?it/s]"
      ]
     },
     "metadata": {},
     "output_type": "display_data"
    },
    {
     "data": {
      "application/vnd.jupyter.widget-view+json": {
       "model_id": "",
       "version_major": 2,
       "version_minor": 0
      },
      "text/plain": [
       "  0%|          | 0/2500 [00:00<?, ?it/s]"
      ]
     },
     "metadata": {},
     "output_type": "display_data"
    },
    {
     "name": "stdout",
     "output_type": "stream",
     "text": [
      "Training complete.\n"
     ]
    }
   ],
   "source": [
    "model = Transformer(config)\n",
    "\n",
    "train(model, sampler, config, verbose=False)"
   ]
  },
  {
   "cell_type": "code",
   "execution_count": 174,
   "id": "dcfa841d",
   "metadata": {},
   "outputs": [
    {
     "data": {
      "text/plain": [
       "['                (1+(((1-8)+(5-(3-1)))-(2-1)))+(6+5)=(1+((3+(5-(3-1)))-(2-1)))+(6+5)']"
      ]
     },
     "execution_count": 174,
     "metadata": {},
     "output_type": "execute_result"
    }
   ],
   "source": [
    "batch, mask = sampler.generate(1)\n",
    "sampler.decode(batch)"
   ]
  },
  {
   "cell_type": "code",
   "execution_count": 175,
   "id": "efdec591",
   "metadata": {},
   "outputs": [
    {
     "data": {
      "text/plain": [
       "tensor([0, 0, 0, 0, 0, 6, 0, 0, 0, 0, 0, 0, 0, 0, 0, 0, 0, 0, 0, 0, 0, 0, 0, 0,\n",
       "        0, 0, 0, 0, 0, 0, 0], device='cuda:0')"
      ]
     },
     "execution_count": 175,
     "metadata": {},
     "output_type": "execute_result"
    }
   ],
   "source": [
    "batch = batch.to(config.device)\n",
    "logits, _ = model(batch)\n",
    "(logits[:, :-1].argmax(dim=-1) - batch[:, 1:])[mask[:,1:]]"
   ]
  },
  {
   "cell_type": "code",
   "execution_count": 178,
   "id": "4eb8bc53",
   "metadata": {},
   "outputs": [
    {
     "data": {
      "text/plain": [
       "['(1+((9+(5-(3-1)))-(2-1)))+(6+5)']"
      ]
     },
     "execution_count": 178,
     "metadata": {},
     "output_type": "execute_result"
    }
   ],
   "source": [
    "sampler.decode(logits[:, :-1].argmax(dim=-1)[mask[:,1:]])"
   ]
  },
  {
   "cell_type": "code",
   "execution_count": 179,
   "id": "d2b0c3fa",
   "metadata": {},
   "outputs": [
    {
     "data": {
      "text/plain": [
       "['                (1+(((1-8)+(5-(3-1)))-(2-1)))+(6+5)=(1+((3+(5-(3-1)))-(2-1)))+(6+5)']"
      ]
     },
     "execution_count": 179,
     "metadata": {},
     "output_type": "execute_result"
    }
   ],
   "source": [
    "sampler.decode(batch)"
   ]
  },
  {
   "cell_type": "code",
   "execution_count": null,
   "id": "29f45966-2e9c-4c76-990c-49b0aaf7dca0",
   "metadata": {},
   "outputs": [],
   "source": []
  }
 ],
 "metadata": {
  "kernelspec": {
   "display_name": "Python 3 (ipykernel)",
   "language": "python",
   "name": "python3"
  },
  "language_info": {
   "codemirror_mode": {
    "name": "ipython",
    "version": 3
   },
   "file_extension": ".py",
   "mimetype": "text/x-python",
   "name": "python",
   "nbconvert_exporter": "python",
   "pygments_lexer": "ipython3",
   "version": "3.12.3"
  }
 },
 "nbformat": 4,
 "nbformat_minor": 5
}
